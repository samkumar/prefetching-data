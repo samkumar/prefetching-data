{
 "cells": [
  {
   "cell_type": "code",
   "execution_count": 1,
   "metadata": {},
   "outputs": [],
   "source": [
    "import collections\n",
    "import csv\n",
    "import matplotlib\n",
    "import matplotlib.pyplot as plt\n",
    "import numpy as np\n",
    "import os\n",
    "\n",
    "%matplotlib inline\n",
    "%config InlineBackend.figure_format = 'png'\n",
    "\n",
    "# For recent conferences, I've had HotCRP complain about missing fonts unless I include this line\n",
    "matplotlib.rcParams['pdf.fonttype'] = 42"
   ]
  },
  {
   "cell_type": "code",
   "execution_count": 2,
   "metadata": {},
   "outputs": [],
   "source": [
    "def time_to_secs(time_string):\n",
    "    secs = 0\n",
    "    tokens = time_string.split(\":\")\n",
    "    if len(tokens) == 3:\n",
    "        hours = int(tokens[0])\n",
    "        secs += 3600 * hours\n",
    "        tokens = tokens[1:]\n",
    "    if len(tokens) == 2:\n",
    "        minutes = int(tokens[0])\n",
    "        secs += 60 * minutes\n",
    "        tokens = tokens[1:]\n",
    "    assert(len(tokens) == 1)\n",
    "    secs += float(tokens[0])\n",
    "    return secs\n",
    "\n",
    "def micros_empty_to_secs(micros_string):\n",
    "    if micros_string == \"\":\n",
    "        return 0.0\n",
    "    return float(micros_string) / 1000000"
   ]
  },
  {
   "cell_type": "code",
   "execution_count": 3,
   "metadata": {},
   "outputs": [],
   "source": [
    "MeasurementTuple = collections.namedtuple(\"MeasurementTuple\", (\"ratio\",\n",
    "                                                               \"num_major_faults\",\n",
    "                                                               \"num_total_faults\",\n",
    "                                                               \"user_time\",\n",
    "                                                               \"wall_clock_time\",\n",
    "                                                               \"pages_evicted\",\n",
    "                                                               \"pages_swapped_in\",\n",
    "                                                               \"page_fault_time\",\n",
    "                                                               \"swap_in_time\",\n",
    "                                                               \"evict_time\",\n",
    "                                                               \"lock_minpf_time\"))\n",
    "\n",
    "class Measurement(MeasurementTuple):\n",
    "    @property\n",
    "    def num_minor_faults(self):\n",
    "        return self.num_total_faults - self.num_major_faults\n",
    "\n",
    "class RatioSweep(object):\n",
    "    def __init__(self, stats_filename, cgroup_filename, ftrace_filename):\n",
    "        # Maps ratio (100, 90, 80, etc.) to Measurement object describing the stat\n",
    "        self.by_ratio = {}\n",
    "        \n",
    "        # Maps ratio to list of rows\n",
    "        with open(stats_filename) as sf:\n",
    "            sr = csv.DictReader(sf)\n",
    "            stats_by_row = {int(row[\"RATIO\"]) : row for row in sr}\n",
    "        with open(cgroup_filename) as cf:\n",
    "            cr = csv.DictReader(cf)\n",
    "            cgroup_by_row = {int(row[\"RATIO\"]) : row for row in cr}\n",
    "        with open(ftrace_filename) as ff:\n",
    "            fr = csv.DictReader(ff)\n",
    "            ftrace_by_row = {(int(row[\"RATIO\"]), int(row[\"CPU\"])) : row for row in fr}\n",
    "                \n",
    "        for ratio in stats_by_row:\n",
    "            stats = stats_by_row[ratio]\n",
    "            cgroup = cgroup_by_row[ratio]\n",
    "            ftrace = ftrace_by_row[(ratio, 0)]\n",
    "            self.by_ratio[ratio] = Measurement(ratio,\n",
    "                                               int(cgroup[\"NUM_MAJOR_FAULTS\"]),\n",
    "                                               int(cgroup[\"NUM_FAULTS\"]),\n",
    "                                               time_to_secs(stats[\"USER\"]),\n",
    "                                               time_to_secs(stats[\"WALLCLOCK\"]),\n",
    "                                               int(stats[\"PAGES_EVICTED\"]),\n",
    "                                               int(stats[\"PAGES_SWAPPED_IN\"]),\n",
    "                                               micros_empty_to_secs(ftrace[\"PAGE_FAULT_TIME\"]),\n",
    "                                               micros_empty_to_secs(ftrace[\"SWAPIN_TIME\"]),\n",
    "                                               micros_empty_to_secs(ftrace[\"EVICT_TIME\"]),\n",
    "                                               micros_empty_to_secs(ftrace[\"LOCK_MINPF_TIME\"]) if \"LOCK_MINPF_TIME\" in ftrace else None)\n",
    "\n",
    "        \n",
    "class MultiTrialRatioSweep(object):\n",
    "    def __init__(self, sweeps, aggregator = None):\n",
    "        self.num_trials = len(sweeps)\n",
    "        assert(self.num_trials != 0)\n",
    "        \n",
    "        self.by_ratio = {}\n",
    "        \n",
    "        ratios = sweeps[0].by_ratio.keys()\n",
    "        for s in sweeps:\n",
    "            ratios = ratios & s.by_ratio.keys()\n",
    "\n",
    "        if aggregator is None:\n",
    "            aggregator = np.median\n",
    "        \n",
    "        for ratio in ratios:\n",
    "            measures = tuple(s.by_ratio[ratio] for s in sweeps)\n",
    "            self.by_ratio[ratio] = Measurement(ratio,\n",
    "                                               aggregator([m.num_major_faults for m in measures]),\n",
    "                                               aggregator([m.num_total_faults for m in measures]),\n",
    "                                               aggregator([m.wall_clock_time for m in measures]),\n",
    "                                               aggregator([m.pages_evicted for m in measures]),\n",
    "                                               aggregator([m.pages_swapped_in for m in measures]))\n",
    "            "
   ]
  },
  {
   "cell_type": "code",
   "execution_count": 4,
   "metadata": {},
   "outputs": [],
   "source": [
    "def parse_ratio_sweep(system, experiment_name, setup, base_directory = \".\", trial = None):\n",
    "    if system == \"tape\":\n",
    "        first_directory = \"tape_bench_output\"\n",
    "        if trial is not None:\n",
    "            first_directory = \"{0}_t{1}\".format(first_directory, trial)\n",
    "        if setup == \"linux\":\n",
    "            third_directory = \"linux_prefetching_asyncwrites\"\n",
    "        elif setup == \"linux_sync\":\n",
    "            third_directory = \"linux_prefetching\"\n",
    "        elif setup == \"tape\":\n",
    "            third_directory = \"tape_prefetching_asyncwrites\"\n",
    "        else:\n",
    "            raise RuntimeError(\"Can't handle {0}\".format((system, experiment_name, setup)))\n",
    "        stats_filename = os.path.join(base_directory, first_directory, experiment_name, third_directory, \"time_and_swap_results.csv\")\n",
    "        cgroup_filename = os.path.join(base_directory, first_directory, experiment_name, third_directory, \"cgroup_results.csv\")\n",
    "        ftrace_filename = os.path.join(base_directory, first_directory, experiment_name, third_directory, \"ftrace_results.csv\")\n",
    "        return RatioSweep(stats_filename, cgroup_filename, ftrace_filename)\n",
    "    elif system == \"leap\":\n",
    "        first_directory = \"leap_bench_output\"\n",
    "        if trial is not None:\n",
    "            first_directory = \"{0}_t{1}\".format(first_directory, trial)\n",
    "        if setup == \"linux\" or setup == \"linux_sync\":\n",
    "            stats_filename = os.path.join(base_directory, first_directory, experiment_name, \"linux.stats\")\n",
    "            cgroup_filename = os.path.join(base_directory, first_directory, experiment_name, \"leap.cgroup\")\n",
    "        elif setup == \"leap\":\n",
    "            stats_filename = os.path.join(base_directory, first_directory, experiment_name, \"leap.stats\")\n",
    "            cgroup_filename = os.path.join(base_directory, first_directory, experiment_name, \"leap.cgroup\")\n",
    "        else:\n",
    "            raise RuntimeError(\"Can't handle {0}\".format((system, experiment_name, setup)))\n",
    "        return RatioSweep(stats_filename, cgroup_filename)\n",
    "    else:\n",
    "        raise RuntimeError(\"Can't handle system {0}\".format(system))"
   ]
  },
  {
   "cell_type": "code",
   "execution_count": 5,
   "metadata": {},
   "outputs": [],
   "source": [
    "RATIOS = (5, 10, 20, 30, 40, 50, 60, 70, 80, 90, 100)"
   ]
  },
  {
   "cell_type": "code",
   "execution_count": 6,
   "metadata": {},
   "outputs": [],
   "source": [
    "tape = parse_ratio_sweep(\"tape\", \"mmult_eigen_dot\", \"tape\", \"data\")\n",
    "linux = parse_ratio_sweep(\"tape\", \"mmult_eigen_dot\", \"linux\", \"data\")"
   ]
  },
  {
   "cell_type": "code",
   "execution_count": 7,
   "metadata": {},
   "outputs": [],
   "source": [
    "def smart_round(number):\n",
    "    if number >= 100:\n",
    "        return str(int(round(number, 3 - len(str(int(number))))))\n",
    "    elif number >= 10:\n",
    "        return \"{0:.1f}\".format(round(number, 1))\n",
    "    elif number >= 1:\n",
    "        return \"{0:.2f}\".format(round(number, 2))\n",
    "    elif number >= 0.1:\n",
    "        return \"{0:.3f}\".format(round(number, 3))\n",
    "    elif number >= 0.01:\n",
    "        return \"{0:.4f}\".format(round(number, 4))\n",
    "    elif number >= 0.001:\n",
    "        return \"{0:.5f}\".format(round(number, 5))\n",
    "    else:\n",
    "        return \"negl\""
   ]
  },
  {
   "cell_type": "code",
   "execution_count": 8,
   "metadata": {},
   "outputs": [],
   "source": [
    "def print_breakdown(sweep):\n",
    "    print(\"ratio\", \"total\", \"user\", \"min_pf\", \"maj_pf\", \"evict\", \"other\", sep = \"\\t\")\n",
    "    for ratio in RATIOS:\n",
    "        m = sweep.by_ratio[ratio]\n",
    "        print(ratio,\n",
    "              m.wall_clock_time,\n",
    "              smart_round(m.user_time / m.wall_clock_time),\n",
    "              smart_round((m.page_fault_time - m.swap_in_time) / m.wall_clock_time),\n",
    "              smart_round(m.swap_in_time / m.wall_clock_time),\n",
    "              smart_round(m.evict_time / m.wall_clock_time),\n",
    "              smart_round(1 - (m.user_time / m.wall_clock_time + m.page_fault_time / m.wall_clock_time + m.evict_time / m.wall_clock_time)),\n",
    "              sep = \"\\t\")"
   ]
  },
  {
   "cell_type": "code",
   "execution_count": 9,
   "metadata": {},
   "outputs": [
    {
     "name": "stdout",
     "output_type": "stream",
     "text": [
      "ratio\ttotal\tuser\tmin_pf\tmaj_pf\tevict\tother\n",
      "5\t4.76\t0.534\t0.215\t0.196\t0.00218\t0.0527\n",
      "10\t5.0\t0.528\t0.202\t0.235\t0.00782\t0.0271\n",
      "20\t4.97\t0.493\t0.201\t0.229\t0.0155\t0.0610\n",
      "30\t7.15\t0.329\t0.0863\t0.509\t0.0263\t0.0500\n",
      "40\t7.31\t0.320\t0.0822\t0.520\t0.0274\t0.0500\n",
      "50\t5.62\t0.418\t0.170\t0.200\t0.151\t0.0613\n",
      "60\t5.3\t0.436\t0.174\t0.205\t0.111\t0.0732\n",
      "70\t4.15\t0.564\t0.233\t0.113\t0.0280\t0.0612\n",
      "80\t4.14\t0.580\t0.231\t0.113\t0.0356\t0.0408\n",
      "90\t4.14\t0.563\t0.231\t0.110\t0.0449\t0.0516\n",
      "100\t3.08\t0.695\t0.184\t0.00543\tnegl\t0.116\n"
     ]
    }
   ],
   "source": [
    "print_breakdown(linux)"
   ]
  },
  {
   "cell_type": "code",
   "execution_count": 10,
   "metadata": {},
   "outputs": [
    {
     "name": "stdout",
     "output_type": "stream",
     "text": [
      "ratio\ttotal\tuser\tmin_pf\tmaj_pf\tevict\tother\n",
      "5\t4.76\t0.540\t0.414\tnegl\tnegl\t0.0464\n",
      "10\t4.81\t0.543\t0.409\tnegl\t0.0128\t0.0358\n",
      "20\t4.87\t0.544\t0.404\tnegl\t0.0277\t0.0247\n",
      "30\t5.0\t0.510\t0.391\tnegl\t0.0572\t0.0414\n",
      "40\t4.97\t0.517\t0.394\tnegl\t0.0491\t0.0394\n",
      "50\t5.41\t0.449\t0.345\tnegl\t0.155\t0.0508\n",
      "60\t5.16\t0.467\t0.335\tnegl\t0.138\t0.0590\n",
      "70\t3.99\t0.576\t0.269\tnegl\t0.0808\t0.0738\n",
      "80\t3.96\t0.586\t0.268\tnegl\t0.0803\t0.0657\n",
      "90\t4.03\t0.576\t0.261\tnegl\t0.108\t0.0553\n",
      "100\t3.88\t0.580\t0.136\t0.218\tnegl\t0.0665\n"
     ]
    }
   ],
   "source": [
    "print_breakdown(tape)"
   ]
  },
  {
   "cell_type": "code",
   "execution_count": 11,
   "metadata": {},
   "outputs": [],
   "source": [
    "def plot_breakdown(linux, tape):\n",
    "    plt.figure(figsize=(6, 3))\n",
    "\n",
    "    SLICE_RATIO = 20\n",
    "    linux_m = linux.by_ratio[SLICE_RATIO]\n",
    "    tape_m = tape.by_ratio[SLICE_RATIO]\n",
    "\n",
    "    x = (0, 1)\n",
    "\n",
    "    def get_components(m):\n",
    "        return (m.user_time,\n",
    "                m.evict_time,\n",
    "                m.swap_in_time,\n",
    "                m.lock_minpf_time or 0,\n",
    "                m.page_fault_time - m.swap_in_time - (m.lock_minpf_time or 0),\n",
    "                m.wall_clock_time - m.user_time - m.evict_time - m.page_fault_time)\n",
    "\n",
    "    linux_c = get_components(linux_m)\n",
    "    tape_c = get_components(tape_m)\n",
    "    names = (\"user time\", \"evictions\", \"major pf\", \"minor pf (delayed hits)\", \"minor pf (other)\", \"other\")\n",
    "\n",
    "    total = np.array((0.0, 0.0))\n",
    "    for items in zip(linux_c, tape_c, names):\n",
    "        label = items[2]\n",
    "        arr = np.array(items[:2])\n",
    "        plt.bar(x, arr, label = label, bottom = total)\n",
    "        total += arr\n",
    "        \n",
    "    plt.ylabel(\"Runtime (s)\")\n",
    "    plt.xticks(x, (\"linux\", \"tape\"))\n",
    "    \n",
    "    plt.xlim(-0.5, 3.5)\n",
    "\n",
    "    plt.legend()\n",
    "    plt.show()\n",
    "    \n",
    "def plot_breakdown_exp(system, exp, base_directory):\n",
    "    tape_minpf = parse_ratio_sweep(system, exp, \"tape\", base_directory)\n",
    "    linux_minpf = parse_ratio_sweep(system, exp, \"linux\", base_directory)\n",
    "    plot_breakdown(linux_minpf, tape_minpf)"
   ]
  },
  {
   "cell_type": "markdown",
   "metadata": {},
   "source": [
    "Comparison: After Reboot vs. After Swapping for a While (Major PF Bug)\n",
    "==========================================================="
   ]
  },
  {
   "cell_type": "code",
   "execution_count": 12,
   "metadata": {},
   "outputs": [
    {
     "data": {
      "image/png": "[encoded data removed]",
      "text/plain": [
       "<Figure size 432x216 with 1 Axes>"
      ]
     },
     "metadata": {
      "needs_background": "light"
     },
     "output_type": "display_data"
    }
   ],
   "source": [
    "plot_breakdown_exp(\"tape\", \"mmult_eigen_dot\", \"data\")"
   ]
  },
  {
   "cell_type": "code",
   "execution_count": 13,
   "metadata": {},
   "outputs": [
    {
     "data": {
      "image/png": "[encoded data removed]",
      "text/plain": [
       "<Figure size 432x216 with 1 Axes>"
      ]
     },
     "metadata": {
      "needs_background": "light"
     },
     "output_type": "display_data"
    }
   ],
   "source": [
    "plot_breakdown_exp(\"tape\", \"mmult_eigen_dot\", \"data_5\")"
   ]
  },
  {
   "cell_type": "markdown",
   "metadata": {},
   "source": [
    "Breakdown Including Delayed Hits (0-Switch 10 Gbit Setup)\n",
    "================================================"
   ]
  },
  {
   "cell_type": "code",
   "execution_count": 14,
   "metadata": {},
   "outputs": [
    {
     "data": {
      "image/png": "[encoded data removed]",
      "text/plain": [
       "<Figure size 432x216 with 1 Axes>"
      ]
     },
     "metadata": {
      "needs_background": "light"
     },
     "output_type": "display_data"
    }
   ],
   "source": [
    "plot_breakdown_exp(\"tape\", \"python\", \"data_minpf\")"
   ]
  },
  {
   "cell_type": "code",
   "execution_count": 15,
   "metadata": {},
   "outputs": [
    {
     "data": {
      "image/png": "[encoded data removed]",
      "text/plain": [
       "<Figure size 432x216 with 1 Axes>"
      ]
     },
     "metadata": {
      "needs_background": "light"
     },
     "output_type": "display_data"
    }
   ],
   "source": [
    "plot_breakdown_exp(\"tape\", \"mmult_eigen\", \"data_minpf\")"
   ]
  },
  {
   "cell_type": "code",
   "execution_count": 16,
   "metadata": {},
   "outputs": [
    {
     "data": {
      "image/png": "[encoded data removed]",
      "text/plain": [
       "<Figure size 432x216 with 1 Axes>"
      ]
     },
     "metadata": {
      "needs_background": "light"
     },
     "output_type": "display_data"
    }
   ],
   "source": [
    "plot_breakdown_exp(\"tape\", \"mmult_eigen_vec\", \"data_minpf\")"
   ]
  },
  {
   "cell_type": "code",
   "execution_count": 17,
   "metadata": {},
   "outputs": [
    {
     "data": {
      "image/png": "[encoded data removed]",
      "text/plain": [
       "<Figure size 432x216 with 1 Axes>"
      ]
     },
     "metadata": {
      "needs_background": "light"
     },
     "output_type": "display_data"
    }
   ],
   "source": [
    "plot_breakdown_exp(\"tape\", \"mmult_eigen_dot\", \"data_minpf\")"
   ]
  },
  {
   "cell_type": "code",
   "execution_count": 18,
   "metadata": {},
   "outputs": [
    {
     "data": {
      "image/png": "[encoded data removed]",
      "text/plain": [
       "<Figure size 432x216 with 1 Axes>"
      ]
     },
     "metadata": {
      "needs_background": "light"
     },
     "output_type": "display_data"
    }
   ],
   "source": [
    "plot_breakdown_exp(\"tape\", \"sparse_eigen\", \"data_minpf\")"
   ]
  }
 ],
 "metadata": {
  "kernelspec": {
   "display_name": "Python 3",
   "language": "python",
   "name": "python3"
  },
  "language_info": {
   "codemirror_mode": {
    "name": "ipython",
    "version": 3
   },
   "file_extension": ".py",
   "mimetype": "text/x-python",
   "name": "python",
   "nbconvert_exporter": "python",
   "pygments_lexer": "ipython3",
   "version": "3.8.10"
  }
 },
 "nbformat": 4,
 "nbformat_minor": 4
}
